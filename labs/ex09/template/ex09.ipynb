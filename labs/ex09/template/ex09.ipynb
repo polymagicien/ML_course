{
 "cells": [
  {
   "cell_type": "code",
   "execution_count": 37,
   "metadata": {
    "collapsed": true,
    "jupyter": {
     "outputs_hidden": true
    }
   },
   "outputs": [
    {
     "output_type": "stream",
     "name": "stdout",
     "text": [
      "The autoreload extension is already loaded. To reload it, use:\n  %reload_ext autoreload\n"
     ]
    }
   ],
   "source": [
    "# Useful starting lines\n",
    "%matplotlib inline\n",
    "\n",
    "import numpy as np\n",
    "import scipy\n",
    "import scipy.io\n",
    "import scipy.sparse as sp\n",
    "import matplotlib.pyplot as plt\n",
    "%load_ext autoreload\n",
    "%autoreload 2"
   ]
  },
  {
   "cell_type": "markdown",
   "metadata": {},
   "source": [
    "Implement the sigmoid activation function."
   ]
  },
  {
   "cell_type": "code",
   "execution_count": 101,
   "metadata": {
    "collapsed": false,
    "jupyter": {
     "outputs_hidden": false
    }
   },
   "outputs": [],
   "source": [
    "def sigmoid_(t):\n",
    "    \"\"\"apply sigmoid function on t.\"\"\"\n",
    "    if t>0 : \n",
    "        return 1 / (1 + np.exp(-t))\n",
    "    else:\n",
    "        return np.exp(t) / (np.exp(t) + 1)\n",
    "sigm_optimized = np.vectorize(sigmoid_)\n",
    "\n",
    "def sigmoid(t):\n",
    "    \"\"\"apply sigmoid function on t.\"\"\"\n",
    "    return 1 / (1 + np.exp(-t))\n",
    "    \n",
    "def grad_sigmoid(t):\n",
    "    \"\"\"return the gradient of sigmoid on t.\"\"\"\n",
    "    return sigmoid(t) * (1 - sigmoid(t))\n",
    "\n"
   ]
  },
  {
   "cell_type": "markdown",
   "metadata": {},
   "source": [
    "Note that you are working on a three-layer neural network with one input layer of size $D=4$, $L=1$ hidden layer with size $K=5$, and one output layer with size 1.\n",
    "\n",
    "Initialize the data."
   ]
  },
  {
   "cell_type": "code",
   "execution_count": 39,
   "metadata": {
    "collapsed": false,
    "jupyter": {
     "outputs_hidden": false
    }
   },
   "outputs": [],
   "source": [
    "x = np.array([0.01, 0.02, 0.03, 0.04])\n",
    "W = {\n",
    "    \"w_1\": np.ones((4, 5)),\n",
    "    \"w_2\": np.ones(5)\n",
    "}\n",
    "y = 1"
   ]
  },
  {
   "cell_type": "markdown",
   "metadata": {},
   "source": [
    "# Problem 1: Feed-forward in neural network\n",
    "\n",
    "Implement the neural network described by Equation 1 of the exercise sheet."
   ]
  },
  {
   "cell_type": "code",
   "execution_count": 40,
   "metadata": {},
   "outputs": [
    {
     "output_type": "execute_result",
     "data": {
      "text/plain": [
       "array([0.1, 0.1, 0.1, 0.1, 0.1])"
      ]
     },
     "metadata": {},
     "execution_count": 40
    }
   ],
   "source": [
    "x @ np.ones((4, 5))"
   ]
  },
  {
   "cell_type": "code",
   "execution_count": 41,
   "metadata": {
    "collapsed": false,
    "jupyter": {
     "outputs_hidden": false
    }
   },
   "outputs": [
    {
     "output_type": "stream",
     "name": "stdout",
     "text": [
      "Your implementation is correct!\n"
     ]
    }
   ],
   "source": [
    "def simple_feed_forward(x, W):\n",
    "    \"\"\"Do feed-forward propagation.\"\"\"\n",
    "    return sigm_optimized(sigm_optimized(x @ W['w_1']) @ W['w_2'])\n",
    "\n",
    "simple_feed_forward(x, W)\n",
    "try:\n",
    "    expected = 0.93244675427215695\n",
    "    yours = simple_feed_forward(x, W)\n",
    "    assert np.sum((yours - expected) ** 2) < 1e-15\n",
    "    print(\"Your implementation is correct!\")\n",
    "except:\n",
    "    print(\"Your implementation is not correct.\")"
   ]
  },
  {
   "cell_type": "markdown",
   "metadata": {},
   "source": [
    "# Problem 2: Backpropagation in neural network\n",
    "\n",
    "Implement your derivation of backpropagation. \n",
    "\n",
    "*Hint*: You might want to slightly change `simple_feed_forward`."
   ]
  },
  {
   "cell_type": "code",
   "execution_count": 105,
   "metadata": {
    "collapsed": false,
    "jupyter": {
     "outputs_hidden": false
    }
   },
   "outputs": [
    {
     "output_type": "stream",
     "name": "stdout",
     "text": [
      "{'w_1': array([[-1.06113639e-05, -1.06113639e-05, -1.06113639e-05,\n        -1.06113639e-05, -1.06113639e-05],\n       [-2.12227277e-05, -2.12227277e-05, -2.12227277e-05,\n        -2.12227277e-05, -2.12227277e-05],\n       [-3.18340916e-05, -3.18340916e-05, -3.18340916e-05,\n        -3.18340916e-05, -3.18340916e-05],\n       [-4.24454555e-05, -4.24454555e-05, -4.24454555e-05,\n        -4.24454555e-05, -4.24454555e-05]]), 'w_2': array([-0.00223387, -0.00223387, -0.00223387, -0.00223387, -0.00223387])}\nYour implementation is correct!\n"
     ]
    }
   ],
   "source": [
    "def simple_backpropagation(y, x, W):\n",
    "    \"\"\"Do backpropagation and get delta_W.\"\"\"\n",
    "    z_1 = W['w_1'].T @ x\n",
    "    x_1 = sigm_optimized(z_1)\n",
    "    z_2 = W['w_2'].T @ x_1\n",
    "    x_2 = sigm_optimized(z_2)\n",
    "    \n",
    "    tmp = grad_sigmoid(z_2)\n",
    "    delta_2 = -2 * (y - x_2) * tmp\n",
    "    delta_1 =  W['w_2'] * delta_2 * grad_sigmoid(z_1)\n",
    "\n",
    "    delta_w_2 = delta_2 * x_1\n",
    "\n",
    "    # print(delta_1.reshape(1, -1))\n",
    "    # print(x.reshape(-1,1))\n",
    "\n",
    "    delta_w_1 = np.matmul(x.reshape(-1,1), delta_1.reshape(1, -1))\n",
    "\n",
    "    # delta_w_1 = np.matmul(x, delta_1)\n",
    "    res = {\n",
    "        \"w_1\": delta_w_1/2,\n",
    "        \"w_2\": delta_w_2/2\n",
    "    }\n",
    "    print(res)\n",
    "    return res\n",
    "\n",
    "    \n",
    "try:\n",
    "    expected = {\n",
    "        'w_1': np.array([\n",
    "            [ -1.06113639e-05,  -1.06113639e-05,  -1.06113639e-05, -1.06113639e-05,  -1.06113639e-05],\n",
    "            [ -2.12227277e-05,  -2.12227277e-05,  -2.12227277e-05, -2.12227277e-05,  -2.12227277e-05],\n",
    "            [ -3.18340916e-05,  -3.18340916e-05,  -3.18340916e-05, -3.18340916e-05,  -3.18340916e-05],\n",
    "            [ -4.24454555e-05,  -4.24454555e-05,  -4.24454555e-05, -4.24454555e-05,  -4.24454555e-05]]),\n",
    "        'w_2': np.array(\n",
    "            [-0.00223387, -0.00223387, -0.00223387, -0.00223387, -0.00223387])\n",
    "    }\n",
    "    yours = simple_backpropagation(y, x, W)    \n",
    "    assert np.sum(\n",
    "        [np.sum((yours[key] - expected[key]) ** 2)\n",
    "         for key in expected.keys()]) < 1e-15\n",
    "    print(\"Your implementation is correct!\")\n",
    "except:\n",
    "    print(\"Your implementation is not correct!\")"
   ]
  },
  {
   "cell_type": "code",
   "execution_count": null,
   "metadata": {},
   "outputs": [],
   "source": []
  }
 ],
 "metadata": {
  "anaconda-cloud": {},
  "kernelspec": {
   "name": "Python 3.7.9 64-bit",
   "display_name": "Python 3.7.9 64-bit",
   "metadata": {
    "interpreter": {
     "hash": "7d9c00915f6fb555f17086cdc8fcce09e61781f94801cff48ba2359d5a031726"
    }
   }
  },
  "language_info": {
   "codemirror_mode": {
    "name": "ipython",
    "version": 3
   },
   "file_extension": ".py",
   "mimetype": "text/x-python",
   "name": "python",
   "nbconvert_exporter": "python",
   "pygments_lexer": "ipython3",
   "version": "3.7.9-final"
  }
 },
 "nbformat": 4,
 "nbformat_minor": 4
}